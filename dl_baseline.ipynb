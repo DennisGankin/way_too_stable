{
 "cells": [
  {
   "cell_type": "code",
   "execution_count": 1,
   "metadata": {},
   "outputs": [],
   "source": [
    "import os \n",
    "import numpy as np\n",
    "import pandas as pd\n",
    "import scipy\n",
    "import sklearn.metrics as skmetrics\n",
    "\n",
    "# plotting\n",
    "import matplotlib.pyplot as plt\n",
    "import seaborn as sns\n",
    "\n",
    "# Pytorch\n",
    "import torch\n",
    "import torch.nn as nn\n",
    "import torch.nn.functional as F\n",
    "import torch.optim as optim\n",
    "from torch.utils.data import DataLoader, Dataset\n",
    "import lightning as L\n",
    "\n",
    "import torchmetrics\n",
    "from torchmetrics.regression import PearsonCorrCoef"
   ]
  },
  {
   "cell_type": "markdown",
   "metadata": {},
   "source": [
    "## Dataloading\n",
    "\n",
    "We are using the Megascale dataset. The train, validation and test sets are already predefined.\n",
    "We provide code to load the data and helper functions to encode the sequences to numerical vectors (one-hot encoding). You can use this code as a starting point, adjust it, or use your own data loading. \n",
    "\n",
    "Each sequence will be treated as one batch (easier to deal with different leghts this way). The class below returns a dictionary containing the one-hot encoded sequence of dimension $Lx20$, the target sequence of dimension $Lx20$, containing the $\\Delta \\Delta G $ values, and a mask of the same dimension which indicates with a 1 if an experimental value is available for that position. Only compute your loss on the positions where an experimental value is available. So compute your loss similar to this example:\n",
    "\n",
    "``` \n",
    "prediction = model(x)\n",
    "loss = loss(prediction[mask==1],labels[mask==1])\n",
    "```"
   ]
  },
  {
   "cell_type": "markdown",
   "metadata": {},
   "source": [
    "### Megascale"
   ]
  },
  {
   "cell_type": "code",
   "execution_count": 2,
   "metadata": {},
   "outputs": [],
   "source": [
    "aa_alphabet = 'ACDEFGHIKLMNPQRSTVWY' # amino acid alphabet\n",
    "aa_to_int = {aa: i for i, aa in enumerate(aa_alphabet)} # mapping from amino acid to number\n",
    "\n",
    "# function to one hot encode sequence\n",
    "def one_hot_encode(sequence):\n",
    "    # initialize a zero matrix of shape (len(sequence), len(amino_acids))\n",
    "    one_hot = torch.zeros(len(sequence), len(aa_alphabet))\n",
    "    for i, aa in enumerate(sequence):\n",
    "        # set the column corresponding to the amino acid to 1\n",
    "        one_hot[i].scatter_(0, torch.tensor([aa_to_int[aa]]), 1)\n",
    "    return one_hot\n",
    "\n",
    "\n",
    "# sequence data, comes already batched, so treat accordingly in dataloader (batch_size=1)\n",
    "class SequenceData(Dataset):\n",
    "    def __init__(self, csv_file, label_col=\"ddG_ML\"):\n",
    "        \"\"\"\n",
    "        Initializes the dataset. \n",
    "        input:\n",
    "            csv_file: path to the relevant data file, eg. \"/home/data/mega_train.csv\"\n",
    "        \"\"\"\n",
    "        self.df = pd.read_csv(csv_file, sep=\",\")\n",
    "        self.label_col = label_col\n",
    "        # only have mutation rows\n",
    "        self.df = self.df[self.df.mut_type!=\"wt\"]\n",
    "        # process the mutation row\n",
    "        self.df[\"mutation_pos\"] = self.df[\"mut_type\"].apply(lambda x: int(x[1:-1])-1) # make position start at zero\n",
    "        self.df[\"mutation_to\"] = self.df[\"mut_type\"].apply(lambda x: aa_to_int[x[-1]]) # give numerical label to mutation\n",
    "\n",
    "        # group by wild type\n",
    "        self.df = self.df.groupby(\"WT_name\").agg(list)\n",
    "        # get wild type names\n",
    "        self.wt_names = self.df.index.values\n",
    "        # precompute one-hot encoding for faster training\n",
    "        self.encoded_seqs = {}\n",
    "        for wt_name in self.wt_names:\n",
    "            # get the correct row\n",
    "            mut_row = self.df.loc[wt_name]\n",
    "            seq = mut_row[\"wt_seq\"][0]\n",
    "            self.encoded_seqs[wt_name] = one_hot_encode(seq)\n",
    "\n",
    "    def __len__(self):\n",
    "        return len(self.df)\n",
    "\n",
    "    def __getitem__(self, idx):\n",
    "        # get the wild type name\n",
    "        wt_name = self.wt_names[idx]\n",
    "        # get the correct row\n",
    "        mut_row = self.df.loc[wt_name]\n",
    "        # get the wt sequence in one hot encoding\n",
    "        sequence_encoding = self.encoded_seqs[wt_name]\n",
    "\n",
    "        # create mask and target tensors\n",
    "        mask = torch.zeros((1, len(sequence_encoding),20)) # will be 1 where we have a measurement\n",
    "        target = torch.zeros((1, len(sequence_encoding),20)) # ddg values\n",
    "        # all mutations from df\n",
    "        positions = torch.tensor(mut_row[\"mutation_pos\"])\n",
    "        amino_acids = torch.tensor(mut_row[\"mutation_to\"])\n",
    "        # get the labels\n",
    "        labels = torch.tensor(mut_row[self.label_col])\n",
    "\n",
    "        for i in range(len(sequence_encoding)):\n",
    "            mask[0,i,amino_acids[positions==i]] = 1 # one where we have data\n",
    "            target[0,i,amino_acids[positions==i]] = labels[positions==i] # fill with ddG values\n",
    "        \n",
    "        # returns encoded sequence, mask and target sequence \n",
    "        return {\"sequence\": sequence_encoding[None,:,:].float(), \"mask\": mask, \"labels\": target}"
   ]
  },
  {
   "cell_type": "code",
   "execution_count": 3,
   "metadata": {},
   "outputs": [],
   "source": [
    "# usage\n",
    "dataset_train = SequenceData('data/mega_train.csv')\n",
    "dataset_val= SequenceData('data/mega_val.csv')\n",
    "dataset_test = SequenceData('data/mega_test.csv')\n",
    "\n",
    "# use batch_size=1 bc we treat each sequence as one batch\n",
    "dataloader_val = DataLoader(dataset_val, batch_size=1, shuffle=False)\n",
    "dataloader_train = DataLoader(dataset_train, batch_size=1, shuffle=True)\n",
    "dataloader_test = DataLoader(dataset_test, batch_size=1, shuffle=False)"
   ]
  },
  {
   "cell_type": "markdown",
   "metadata": {},
   "source": [
    "### Domainome"
   ]
  },
  {
   "cell_type": "code",
   "execution_count": 2,
   "metadata": {},
   "outputs": [],
   "source": [
    "filePath = \"data/Supplementary_Table_2_fitness_scores_normalized.txt\"\n",
    "data = pd.read_csv(filePath, sep=\"\\t\")"
   ]
  },
  {
   "cell_type": "code",
   "execution_count": 3,
   "metadata": {},
   "outputs": [
    {
     "data": {
      "text/html": [
       "<div>\n",
       "<style scoped>\n",
       "    .dataframe tbody tr th:only-of-type {\n",
       "        vertical-align: middle;\n",
       "    }\n",
       "\n",
       "    .dataframe tbody tr th {\n",
       "        vertical-align: top;\n",
       "    }\n",
       "\n",
       "    .dataframe thead th {\n",
       "        text-align: right;\n",
       "    }\n",
       "</style>\n",
       "<table border=\"1\" class=\"dataframe\">\n",
       "  <thead>\n",
       "    <tr style=\"text-align: right;\">\n",
       "      <th></th>\n",
       "      <th>domain_ID</th>\n",
       "      <th>uniprot_ID</th>\n",
       "      <th>aa_seq</th>\n",
       "      <th>wt_aa</th>\n",
       "      <th>position</th>\n",
       "      <th>mut_aa</th>\n",
       "      <th>STOP</th>\n",
       "      <th>input_count_rep1</th>\n",
       "      <th>input_count_rep2</th>\n",
       "      <th>input_count_rep3</th>\n",
       "      <th>output_count_rep1</th>\n",
       "      <th>output_count_rep2</th>\n",
       "      <th>output_count_rep3</th>\n",
       "      <th>mean_input_count</th>\n",
       "      <th>fitness</th>\n",
       "      <th>fitness_sigma</th>\n",
       "      <th>normalized_fitness</th>\n",
       "      <th>normalized_fitness_sigma</th>\n",
       "      <th>clinical_class</th>\n",
       "    </tr>\n",
       "  </thead>\n",
       "  <tbody>\n",
       "    <tr>\n",
       "      <th>0</th>\n",
       "      <td>P57071_PF00096_1085</td>\n",
       "      <td>P57071</td>\n",
       "      <td>*CEQCGKSFARKDMLKEHMRVH</td>\n",
       "      <td>A</td>\n",
       "      <td>1085.0</td>\n",
       "      <td>*</td>\n",
       "      <td>True</td>\n",
       "      <td>73.0</td>\n",
       "      <td>89.0</td>\n",
       "      <td>84.0</td>\n",
       "      <td>1.0</td>\n",
       "      <td>4.0</td>\n",
       "      <td>5.0</td>\n",
       "      <td>82.000000</td>\n",
       "      <td>-0.006228</td>\n",
       "      <td>0.022911</td>\n",
       "      <td>-1.445534</td>\n",
       "      <td>0.317667</td>\n",
       "      <td>NaN</td>\n",
       "    </tr>\n",
       "    <tr>\n",
       "      <th>1</th>\n",
       "      <td>P57071_PF00096_1085</td>\n",
       "      <td>P57071</td>\n",
       "      <td>A*EQCGKSFARKDMLKEHMRVH</td>\n",
       "      <td>C</td>\n",
       "      <td>1086.0</td>\n",
       "      <td>*</td>\n",
       "      <td>True</td>\n",
       "      <td>59.0</td>\n",
       "      <td>82.0</td>\n",
       "      <td>78.0</td>\n",
       "      <td>7.0</td>\n",
       "      <td>0.0</td>\n",
       "      <td>0.0</td>\n",
       "      <td>73.000000</td>\n",
       "      <td>0.028656</td>\n",
       "      <td>0.029636</td>\n",
       "      <td>-0.961864</td>\n",
       "      <td>0.410906</td>\n",
       "      <td>NaN</td>\n",
       "    </tr>\n",
       "    <tr>\n",
       "      <th>2</th>\n",
       "      <td>P57071_PF00096_1085</td>\n",
       "      <td>P57071</td>\n",
       "      <td>AAEQCGKSFARKDMLKEHMRVH</td>\n",
       "      <td>C</td>\n",
       "      <td>1086.0</td>\n",
       "      <td>A</td>\n",
       "      <td>False</td>\n",
       "      <td>190.0</td>\n",
       "      <td>223.0</td>\n",
       "      <td>191.0</td>\n",
       "      <td>133.0</td>\n",
       "      <td>125.0</td>\n",
       "      <td>46.0</td>\n",
       "      <td>201.333333</td>\n",
       "      <td>0.075688</td>\n",
       "      <td>0.006956</td>\n",
       "      <td>-0.309755</td>\n",
       "      <td>0.096451</td>\n",
       "      <td>NaN</td>\n",
       "    </tr>\n",
       "    <tr>\n",
       "      <th>3</th>\n",
       "      <td>P57071_PF00096_1085</td>\n",
       "      <td>P57071</td>\n",
       "      <td>AC*QCGKSFARKDMLKEHMRVH</td>\n",
       "      <td>E</td>\n",
       "      <td>1087.0</td>\n",
       "      <td>*</td>\n",
       "      <td>True</td>\n",
       "      <td>161.0</td>\n",
       "      <td>179.0</td>\n",
       "      <td>149.0</td>\n",
       "      <td>3.0</td>\n",
       "      <td>2.0</td>\n",
       "      <td>13.0</td>\n",
       "      <td>163.000000</td>\n",
       "      <td>-0.001982</td>\n",
       "      <td>0.017544</td>\n",
       "      <td>-1.386659</td>\n",
       "      <td>0.243252</td>\n",
       "      <td>NaN</td>\n",
       "    </tr>\n",
       "    <tr>\n",
       "      <th>4</th>\n",
       "      <td>P57071_PF00096_1085</td>\n",
       "      <td>P57071</td>\n",
       "      <td>ACAQCGKSFARKDMLKEHMRVH</td>\n",
       "      <td>E</td>\n",
       "      <td>1087.0</td>\n",
       "      <td>A</td>\n",
       "      <td>False</td>\n",
       "      <td>150.0</td>\n",
       "      <td>161.0</td>\n",
       "      <td>128.0</td>\n",
       "      <td>74.0</td>\n",
       "      <td>48.0</td>\n",
       "      <td>56.0</td>\n",
       "      <td>146.333333</td>\n",
       "      <td>0.069597</td>\n",
       "      <td>0.008001</td>\n",
       "      <td>-0.394199</td>\n",
       "      <td>0.110932</td>\n",
       "      <td>NaN</td>\n",
       "    </tr>\n",
       "    <tr>\n",
       "      <th>...</th>\n",
       "      <td>...</td>\n",
       "      <td>...</td>\n",
       "      <td>...</td>\n",
       "      <td>...</td>\n",
       "      <td>...</td>\n",
       "      <td>...</td>\n",
       "      <td>...</td>\n",
       "      <td>...</td>\n",
       "      <td>...</td>\n",
       "      <td>...</td>\n",
       "      <td>...</td>\n",
       "      <td>...</td>\n",
       "      <td>...</td>\n",
       "      <td>...</td>\n",
       "      <td>...</td>\n",
       "      <td>...</td>\n",
       "      <td>...</td>\n",
       "      <td>...</td>\n",
       "      <td>...</td>\n",
       "    </tr>\n",
       "    <tr>\n",
       "      <th>602877</th>\n",
       "      <td>Q99615_PF00226_382</td>\n",
       "      <td>Q99615</td>\n",
       "      <td>YYSILGVDKNASEDEIKKAYRKRALMHHPDRHSGASAEVQKEEEKK...</td>\n",
       "      <td>K</td>\n",
       "      <td>384.0</td>\n",
       "      <td>S</td>\n",
       "      <td>False</td>\n",
       "      <td>137.0</td>\n",
       "      <td>134.0</td>\n",
       "      <td>136.0</td>\n",
       "      <td>650.0</td>\n",
       "      <td>652.0</td>\n",
       "      <td>749.0</td>\n",
       "      <td>135.666700</td>\n",
       "      <td>0.186037</td>\n",
       "      <td>0.009829</td>\n",
       "      <td>-0.077343</td>\n",
       "      <td>0.123553</td>\n",
       "      <td>NaN</td>\n",
       "    </tr>\n",
       "    <tr>\n",
       "      <th>602878</th>\n",
       "      <td>Q99615_PF00226_382</td>\n",
       "      <td>Q99615</td>\n",
       "      <td>YYTILGVDKNASEDEIKKAYRKRALMHHPDRHSGASAEVQKEEEKK...</td>\n",
       "      <td>K</td>\n",
       "      <td>384.0</td>\n",
       "      <td>T</td>\n",
       "      <td>False</td>\n",
       "      <td>99.0</td>\n",
       "      <td>102.0</td>\n",
       "      <td>122.0</td>\n",
       "      <td>632.0</td>\n",
       "      <td>502.0</td>\n",
       "      <td>513.0</td>\n",
       "      <td>107.666700</td>\n",
       "      <td>0.187877</td>\n",
       "      <td>0.010987</td>\n",
       "      <td>-0.054211</td>\n",
       "      <td>0.138114</td>\n",
       "      <td>NaN</td>\n",
       "    </tr>\n",
       "    <tr>\n",
       "      <th>602879</th>\n",
       "      <td>Q99615_PF00226_382</td>\n",
       "      <td>Q99615</td>\n",
       "      <td>YYVILGVDKNASEDEIKKAYRKRALMHHPDRHSGASAEVQKEEEKK...</td>\n",
       "      <td>K</td>\n",
       "      <td>384.0</td>\n",
       "      <td>V</td>\n",
       "      <td>False</td>\n",
       "      <td>179.0</td>\n",
       "      <td>245.0</td>\n",
       "      <td>413.0</td>\n",
       "      <td>206.0</td>\n",
       "      <td>306.0</td>\n",
       "      <td>559.0</td>\n",
       "      <td>279.000000</td>\n",
       "      <td>0.139785</td>\n",
       "      <td>0.007840</td>\n",
       "      <td>-0.658761</td>\n",
       "      <td>0.098556</td>\n",
       "      <td>NaN</td>\n",
       "    </tr>\n",
       "    <tr>\n",
       "      <th>602880</th>\n",
       "      <td>Q99615_PF00226_382</td>\n",
       "      <td>Q99615</td>\n",
       "      <td>YYWILGVDKNASEDEIKKAYRKRALMHHPDRHSGASAEVQKEEEKK...</td>\n",
       "      <td>K</td>\n",
       "      <td>384.0</td>\n",
       "      <td>W</td>\n",
       "      <td>False</td>\n",
       "      <td>674.0</td>\n",
       "      <td>834.0</td>\n",
       "      <td>833.0</td>\n",
       "      <td>1678.0</td>\n",
       "      <td>1516.0</td>\n",
       "      <td>936.0</td>\n",
       "      <td>780.333300</td>\n",
       "      <td>0.152394</td>\n",
       "      <td>0.004906</td>\n",
       "      <td>-0.500250</td>\n",
       "      <td>0.061666</td>\n",
       "      <td>NaN</td>\n",
       "    </tr>\n",
       "    <tr>\n",
       "      <th>602881</th>\n",
       "      <td>Q99615_PF00226_382</td>\n",
       "      <td>Q99615</td>\n",
       "      <td>YYYILGVDKNASEDEIKKAYRKRALMHHPDRHSGASAEVQKEEEKK...</td>\n",
       "      <td>K</td>\n",
       "      <td>384.0</td>\n",
       "      <td>Y</td>\n",
       "      <td>False</td>\n",
       "      <td>61.0</td>\n",
       "      <td>93.0</td>\n",
       "      <td>98.0</td>\n",
       "      <td>199.0</td>\n",
       "      <td>245.0</td>\n",
       "      <td>267.0</td>\n",
       "      <td>84.000000</td>\n",
       "      <td>0.167989</td>\n",
       "      <td>0.012748</td>\n",
       "      <td>-0.304212</td>\n",
       "      <td>0.160249</td>\n",
       "      <td>NaN</td>\n",
       "    </tr>\n",
       "  </tbody>\n",
       "</table>\n",
       "<p>602882 rows × 19 columns</p>\n",
       "</div>"
      ],
      "text/plain": [
       "                  domain_ID uniprot_ID  \\\n",
       "0       P57071_PF00096_1085     P57071   \n",
       "1       P57071_PF00096_1085     P57071   \n",
       "2       P57071_PF00096_1085     P57071   \n",
       "3       P57071_PF00096_1085     P57071   \n",
       "4       P57071_PF00096_1085     P57071   \n",
       "...                     ...        ...   \n",
       "602877   Q99615_PF00226_382     Q99615   \n",
       "602878   Q99615_PF00226_382     Q99615   \n",
       "602879   Q99615_PF00226_382     Q99615   \n",
       "602880   Q99615_PF00226_382     Q99615   \n",
       "602881   Q99615_PF00226_382     Q99615   \n",
       "\n",
       "                                                   aa_seq wt_aa  position  \\\n",
       "0                                  *CEQCGKSFARKDMLKEHMRVH     A    1085.0   \n",
       "1                                  A*EQCGKSFARKDMLKEHMRVH     C    1086.0   \n",
       "2                                  AAEQCGKSFARKDMLKEHMRVH     C    1086.0   \n",
       "3                                  AC*QCGKSFARKDMLKEHMRVH     E    1087.0   \n",
       "4                                  ACAQCGKSFARKDMLKEHMRVH     E    1087.0   \n",
       "...                                                   ...   ...       ...   \n",
       "602877  YYSILGVDKNASEDEIKKAYRKRALMHHPDRHSGASAEVQKEEEKK...     K     384.0   \n",
       "602878  YYTILGVDKNASEDEIKKAYRKRALMHHPDRHSGASAEVQKEEEKK...     K     384.0   \n",
       "602879  YYVILGVDKNASEDEIKKAYRKRALMHHPDRHSGASAEVQKEEEKK...     K     384.0   \n",
       "602880  YYWILGVDKNASEDEIKKAYRKRALMHHPDRHSGASAEVQKEEEKK...     K     384.0   \n",
       "602881  YYYILGVDKNASEDEIKKAYRKRALMHHPDRHSGASAEVQKEEEKK...     K     384.0   \n",
       "\n",
       "       mut_aa   STOP  input_count_rep1  input_count_rep2  input_count_rep3  \\\n",
       "0           *   True              73.0              89.0              84.0   \n",
       "1           *   True              59.0              82.0              78.0   \n",
       "2           A  False             190.0             223.0             191.0   \n",
       "3           *   True             161.0             179.0             149.0   \n",
       "4           A  False             150.0             161.0             128.0   \n",
       "...       ...    ...               ...               ...               ...   \n",
       "602877      S  False             137.0             134.0             136.0   \n",
       "602878      T  False              99.0             102.0             122.0   \n",
       "602879      V  False             179.0             245.0             413.0   \n",
       "602880      W  False             674.0             834.0             833.0   \n",
       "602881      Y  False              61.0              93.0              98.0   \n",
       "\n",
       "        output_count_rep1  output_count_rep2  output_count_rep3  \\\n",
       "0                     1.0                4.0                5.0   \n",
       "1                     7.0                0.0                0.0   \n",
       "2                   133.0              125.0               46.0   \n",
       "3                     3.0                2.0               13.0   \n",
       "4                    74.0               48.0               56.0   \n",
       "...                   ...                ...                ...   \n",
       "602877              650.0              652.0              749.0   \n",
       "602878              632.0              502.0              513.0   \n",
       "602879              206.0              306.0              559.0   \n",
       "602880             1678.0             1516.0              936.0   \n",
       "602881              199.0              245.0              267.0   \n",
       "\n",
       "        mean_input_count   fitness  fitness_sigma  normalized_fitness  \\\n",
       "0              82.000000 -0.006228       0.022911           -1.445534   \n",
       "1              73.000000  0.028656       0.029636           -0.961864   \n",
       "2             201.333333  0.075688       0.006956           -0.309755   \n",
       "3             163.000000 -0.001982       0.017544           -1.386659   \n",
       "4             146.333333  0.069597       0.008001           -0.394199   \n",
       "...                  ...       ...            ...                 ...   \n",
       "602877        135.666700  0.186037       0.009829           -0.077343   \n",
       "602878        107.666700  0.187877       0.010987           -0.054211   \n",
       "602879        279.000000  0.139785       0.007840           -0.658761   \n",
       "602880        780.333300  0.152394       0.004906           -0.500250   \n",
       "602881         84.000000  0.167989       0.012748           -0.304212   \n",
       "\n",
       "        normalized_fitness_sigma clinical_class  \n",
       "0                       0.317667            NaN  \n",
       "1                       0.410906            NaN  \n",
       "2                       0.096451            NaN  \n",
       "3                       0.243252            NaN  \n",
       "4                       0.110932            NaN  \n",
       "...                          ...            ...  \n",
       "602877                  0.123553            NaN  \n",
       "602878                  0.138114            NaN  \n",
       "602879                  0.098556            NaN  \n",
       "602880                  0.061666            NaN  \n",
       "602881                  0.160249            NaN  \n",
       "\n",
       "[602882 rows x 19 columns]"
      ]
     },
     "execution_count": 3,
     "metadata": {},
     "output_type": "execute_result"
    }
   ],
   "source": [
    "data"
   ]
  },
  {
   "cell_type": "code",
   "execution_count": 5,
   "metadata": {},
   "outputs": [],
   "source": [
    "# preprocess data\n",
    "# first add a row with wt_seq, wt_name and mut_type columns and position starting with zero\n",
    "# group by domain_ID, get first row, get sequence, change the * in the sequence to the wt_aa\n",
    "# group  df by domain_ID\n",
    "df = data.groupby(\"domain_ID\")\n",
    "\n",
    "# for each group get minimum position\n",
    "df_min = df[\"position\"].min()\n",
    "# subtract this from data \n",
    "data[\"position_abs\"] = data.apply(lambda x: x[\"position\"] - df_min[x[\"domain_ID\"]], axis=1)\n",
    "\n",
    "# for each group get first row and get the sequence\n",
    "df_first = df.first()\n",
    "\n",
    "def replace_star(row):\n",
    "    seq = row[\"aa_seq\"]\n",
    "    wt_aa = row[\"wt_aa\"]\n",
    "    return seq.replace(\"*\", wt_aa)\n",
    "\n",
    "df_first['aa_seq'] = df_first.apply(replace_star, axis=1)\n",
    "\n",
    "# replace the aa_seq column with the corrected sequence, for whole df\n",
    "data[\"aa_seq\"] = data[\"domain_ID\"].map(df_first[\"aa_seq\"])\n",
    "\n",
    "# df\n"
   ]
  },
  {
   "cell_type": "code",
   "execution_count": 6,
   "metadata": {},
   "outputs": [
    {
     "data": {
      "text/html": [
       "<div>\n",
       "<style scoped>\n",
       "    .dataframe tbody tr th:only-of-type {\n",
       "        vertical-align: middle;\n",
       "    }\n",
       "\n",
       "    .dataframe tbody tr th {\n",
       "        vertical-align: top;\n",
       "    }\n",
       "\n",
       "    .dataframe thead th {\n",
       "        text-align: right;\n",
       "    }\n",
       "</style>\n",
       "<table border=\"1\" class=\"dataframe\">\n",
       "  <thead>\n",
       "    <tr style=\"text-align: right;\">\n",
       "      <th></th>\n",
       "      <th>domain_ID</th>\n",
       "      <th>uniprot_ID</th>\n",
       "      <th>aa_seq</th>\n",
       "      <th>wt_aa</th>\n",
       "      <th>position</th>\n",
       "      <th>mut_aa</th>\n",
       "      <th>STOP</th>\n",
       "      <th>input_count_rep1</th>\n",
       "      <th>input_count_rep2</th>\n",
       "      <th>input_count_rep3</th>\n",
       "      <th>output_count_rep1</th>\n",
       "      <th>output_count_rep2</th>\n",
       "      <th>output_count_rep3</th>\n",
       "      <th>mean_input_count</th>\n",
       "      <th>fitness</th>\n",
       "      <th>fitness_sigma</th>\n",
       "      <th>normalized_fitness</th>\n",
       "      <th>normalized_fitness_sigma</th>\n",
       "      <th>clinical_class</th>\n",
       "      <th>position_abs</th>\n",
       "    </tr>\n",
       "  </thead>\n",
       "  <tbody>\n",
       "    <tr>\n",
       "      <th>0</th>\n",
       "      <td>P57071_PF00096_1085</td>\n",
       "      <td>P57071</td>\n",
       "      <td>ACEQCGKSFARKDMLKEHMRVH</td>\n",
       "      <td>A</td>\n",
       "      <td>1085.0</td>\n",
       "      <td>*</td>\n",
       "      <td>True</td>\n",
       "      <td>73.0</td>\n",
       "      <td>89.0</td>\n",
       "      <td>84.0</td>\n",
       "      <td>1.0</td>\n",
       "      <td>4.0</td>\n",
       "      <td>5.0</td>\n",
       "      <td>82.000000</td>\n",
       "      <td>-0.006228</td>\n",
       "      <td>0.022911</td>\n",
       "      <td>-1.445534</td>\n",
       "      <td>0.317667</td>\n",
       "      <td>NaN</td>\n",
       "      <td>0.0</td>\n",
       "    </tr>\n",
       "    <tr>\n",
       "      <th>1</th>\n",
       "      <td>P57071_PF00096_1085</td>\n",
       "      <td>P57071</td>\n",
       "      <td>ACEQCGKSFARKDMLKEHMRVH</td>\n",
       "      <td>C</td>\n",
       "      <td>1086.0</td>\n",
       "      <td>*</td>\n",
       "      <td>True</td>\n",
       "      <td>59.0</td>\n",
       "      <td>82.0</td>\n",
       "      <td>78.0</td>\n",
       "      <td>7.0</td>\n",
       "      <td>0.0</td>\n",
       "      <td>0.0</td>\n",
       "      <td>73.000000</td>\n",
       "      <td>0.028656</td>\n",
       "      <td>0.029636</td>\n",
       "      <td>-0.961864</td>\n",
       "      <td>0.410906</td>\n",
       "      <td>NaN</td>\n",
       "      <td>1.0</td>\n",
       "    </tr>\n",
       "    <tr>\n",
       "      <th>2</th>\n",
       "      <td>P57071_PF00096_1085</td>\n",
       "      <td>P57071</td>\n",
       "      <td>ACEQCGKSFARKDMLKEHMRVH</td>\n",
       "      <td>C</td>\n",
       "      <td>1086.0</td>\n",
       "      <td>A</td>\n",
       "      <td>False</td>\n",
       "      <td>190.0</td>\n",
       "      <td>223.0</td>\n",
       "      <td>191.0</td>\n",
       "      <td>133.0</td>\n",
       "      <td>125.0</td>\n",
       "      <td>46.0</td>\n",
       "      <td>201.333333</td>\n",
       "      <td>0.075688</td>\n",
       "      <td>0.006956</td>\n",
       "      <td>-0.309755</td>\n",
       "      <td>0.096451</td>\n",
       "      <td>NaN</td>\n",
       "      <td>1.0</td>\n",
       "    </tr>\n",
       "    <tr>\n",
       "      <th>3</th>\n",
       "      <td>P57071_PF00096_1085</td>\n",
       "      <td>P57071</td>\n",
       "      <td>ACEQCGKSFARKDMLKEHMRVH</td>\n",
       "      <td>E</td>\n",
       "      <td>1087.0</td>\n",
       "      <td>*</td>\n",
       "      <td>True</td>\n",
       "      <td>161.0</td>\n",
       "      <td>179.0</td>\n",
       "      <td>149.0</td>\n",
       "      <td>3.0</td>\n",
       "      <td>2.0</td>\n",
       "      <td>13.0</td>\n",
       "      <td>163.000000</td>\n",
       "      <td>-0.001982</td>\n",
       "      <td>0.017544</td>\n",
       "      <td>-1.386659</td>\n",
       "      <td>0.243252</td>\n",
       "      <td>NaN</td>\n",
       "      <td>2.0</td>\n",
       "    </tr>\n",
       "    <tr>\n",
       "      <th>4</th>\n",
       "      <td>P57071_PF00096_1085</td>\n",
       "      <td>P57071</td>\n",
       "      <td>ACEQCGKSFARKDMLKEHMRVH</td>\n",
       "      <td>E</td>\n",
       "      <td>1087.0</td>\n",
       "      <td>A</td>\n",
       "      <td>False</td>\n",
       "      <td>150.0</td>\n",
       "      <td>161.0</td>\n",
       "      <td>128.0</td>\n",
       "      <td>74.0</td>\n",
       "      <td>48.0</td>\n",
       "      <td>56.0</td>\n",
       "      <td>146.333333</td>\n",
       "      <td>0.069597</td>\n",
       "      <td>0.008001</td>\n",
       "      <td>-0.394199</td>\n",
       "      <td>0.110932</td>\n",
       "      <td>NaN</td>\n",
       "      <td>2.0</td>\n",
       "    </tr>\n",
       "    <tr>\n",
       "      <th>...</th>\n",
       "      <td>...</td>\n",
       "      <td>...</td>\n",
       "      <td>...</td>\n",
       "      <td>...</td>\n",
       "      <td>...</td>\n",
       "      <td>...</td>\n",
       "      <td>...</td>\n",
       "      <td>...</td>\n",
       "      <td>...</td>\n",
       "      <td>...</td>\n",
       "      <td>...</td>\n",
       "      <td>...</td>\n",
       "      <td>...</td>\n",
       "      <td>...</td>\n",
       "      <td>...</td>\n",
       "      <td>...</td>\n",
       "      <td>...</td>\n",
       "      <td>...</td>\n",
       "      <td>...</td>\n",
       "      <td>...</td>\n",
       "    </tr>\n",
       "    <tr>\n",
       "      <th>602877</th>\n",
       "      <td>Q99615_PF00226_382</td>\n",
       "      <td>Q99615</td>\n",
       "      <td>YYKILGVDKNASEDEIKKAYRKRALMHHPDRHSGASAEVQKEEEKK...</td>\n",
       "      <td>K</td>\n",
       "      <td>384.0</td>\n",
       "      <td>S</td>\n",
       "      <td>False</td>\n",
       "      <td>137.0</td>\n",
       "      <td>134.0</td>\n",
       "      <td>136.0</td>\n",
       "      <td>650.0</td>\n",
       "      <td>652.0</td>\n",
       "      <td>749.0</td>\n",
       "      <td>135.666700</td>\n",
       "      <td>0.186037</td>\n",
       "      <td>0.009829</td>\n",
       "      <td>-0.077343</td>\n",
       "      <td>0.123553</td>\n",
       "      <td>NaN</td>\n",
       "      <td>2.0</td>\n",
       "    </tr>\n",
       "    <tr>\n",
       "      <th>602878</th>\n",
       "      <td>Q99615_PF00226_382</td>\n",
       "      <td>Q99615</td>\n",
       "      <td>YYKILGVDKNASEDEIKKAYRKRALMHHPDRHSGASAEVQKEEEKK...</td>\n",
       "      <td>K</td>\n",
       "      <td>384.0</td>\n",
       "      <td>T</td>\n",
       "      <td>False</td>\n",
       "      <td>99.0</td>\n",
       "      <td>102.0</td>\n",
       "      <td>122.0</td>\n",
       "      <td>632.0</td>\n",
       "      <td>502.0</td>\n",
       "      <td>513.0</td>\n",
       "      <td>107.666700</td>\n",
       "      <td>0.187877</td>\n",
       "      <td>0.010987</td>\n",
       "      <td>-0.054211</td>\n",
       "      <td>0.138114</td>\n",
       "      <td>NaN</td>\n",
       "      <td>2.0</td>\n",
       "    </tr>\n",
       "    <tr>\n",
       "      <th>602879</th>\n",
       "      <td>Q99615_PF00226_382</td>\n",
       "      <td>Q99615</td>\n",
       "      <td>YYKILGVDKNASEDEIKKAYRKRALMHHPDRHSGASAEVQKEEEKK...</td>\n",
       "      <td>K</td>\n",
       "      <td>384.0</td>\n",
       "      <td>V</td>\n",
       "      <td>False</td>\n",
       "      <td>179.0</td>\n",
       "      <td>245.0</td>\n",
       "      <td>413.0</td>\n",
       "      <td>206.0</td>\n",
       "      <td>306.0</td>\n",
       "      <td>559.0</td>\n",
       "      <td>279.000000</td>\n",
       "      <td>0.139785</td>\n",
       "      <td>0.007840</td>\n",
       "      <td>-0.658761</td>\n",
       "      <td>0.098556</td>\n",
       "      <td>NaN</td>\n",
       "      <td>2.0</td>\n",
       "    </tr>\n",
       "    <tr>\n",
       "      <th>602880</th>\n",
       "      <td>Q99615_PF00226_382</td>\n",
       "      <td>Q99615</td>\n",
       "      <td>YYKILGVDKNASEDEIKKAYRKRALMHHPDRHSGASAEVQKEEEKK...</td>\n",
       "      <td>K</td>\n",
       "      <td>384.0</td>\n",
       "      <td>W</td>\n",
       "      <td>False</td>\n",
       "      <td>674.0</td>\n",
       "      <td>834.0</td>\n",
       "      <td>833.0</td>\n",
       "      <td>1678.0</td>\n",
       "      <td>1516.0</td>\n",
       "      <td>936.0</td>\n",
       "      <td>780.333300</td>\n",
       "      <td>0.152394</td>\n",
       "      <td>0.004906</td>\n",
       "      <td>-0.500250</td>\n",
       "      <td>0.061666</td>\n",
       "      <td>NaN</td>\n",
       "      <td>2.0</td>\n",
       "    </tr>\n",
       "    <tr>\n",
       "      <th>602881</th>\n",
       "      <td>Q99615_PF00226_382</td>\n",
       "      <td>Q99615</td>\n",
       "      <td>YYKILGVDKNASEDEIKKAYRKRALMHHPDRHSGASAEVQKEEEKK...</td>\n",
       "      <td>K</td>\n",
       "      <td>384.0</td>\n",
       "      <td>Y</td>\n",
       "      <td>False</td>\n",
       "      <td>61.0</td>\n",
       "      <td>93.0</td>\n",
       "      <td>98.0</td>\n",
       "      <td>199.0</td>\n",
       "      <td>245.0</td>\n",
       "      <td>267.0</td>\n",
       "      <td>84.000000</td>\n",
       "      <td>0.167989</td>\n",
       "      <td>0.012748</td>\n",
       "      <td>-0.304212</td>\n",
       "      <td>0.160249</td>\n",
       "      <td>NaN</td>\n",
       "      <td>2.0</td>\n",
       "    </tr>\n",
       "  </tbody>\n",
       "</table>\n",
       "<p>602882 rows × 20 columns</p>\n",
       "</div>"
      ],
      "text/plain": [
       "                  domain_ID uniprot_ID  \\\n",
       "0       P57071_PF00096_1085     P57071   \n",
       "1       P57071_PF00096_1085     P57071   \n",
       "2       P57071_PF00096_1085     P57071   \n",
       "3       P57071_PF00096_1085     P57071   \n",
       "4       P57071_PF00096_1085     P57071   \n",
       "...                     ...        ...   \n",
       "602877   Q99615_PF00226_382     Q99615   \n",
       "602878   Q99615_PF00226_382     Q99615   \n",
       "602879   Q99615_PF00226_382     Q99615   \n",
       "602880   Q99615_PF00226_382     Q99615   \n",
       "602881   Q99615_PF00226_382     Q99615   \n",
       "\n",
       "                                                   aa_seq wt_aa  position  \\\n",
       "0                                  ACEQCGKSFARKDMLKEHMRVH     A    1085.0   \n",
       "1                                  ACEQCGKSFARKDMLKEHMRVH     C    1086.0   \n",
       "2                                  ACEQCGKSFARKDMLKEHMRVH     C    1086.0   \n",
       "3                                  ACEQCGKSFARKDMLKEHMRVH     E    1087.0   \n",
       "4                                  ACEQCGKSFARKDMLKEHMRVH     E    1087.0   \n",
       "...                                                   ...   ...       ...   \n",
       "602877  YYKILGVDKNASEDEIKKAYRKRALMHHPDRHSGASAEVQKEEEKK...     K     384.0   \n",
       "602878  YYKILGVDKNASEDEIKKAYRKRALMHHPDRHSGASAEVQKEEEKK...     K     384.0   \n",
       "602879  YYKILGVDKNASEDEIKKAYRKRALMHHPDRHSGASAEVQKEEEKK...     K     384.0   \n",
       "602880  YYKILGVDKNASEDEIKKAYRKRALMHHPDRHSGASAEVQKEEEKK...     K     384.0   \n",
       "602881  YYKILGVDKNASEDEIKKAYRKRALMHHPDRHSGASAEVQKEEEKK...     K     384.0   \n",
       "\n",
       "       mut_aa   STOP  input_count_rep1  input_count_rep2  input_count_rep3  \\\n",
       "0           *   True              73.0              89.0              84.0   \n",
       "1           *   True              59.0              82.0              78.0   \n",
       "2           A  False             190.0             223.0             191.0   \n",
       "3           *   True             161.0             179.0             149.0   \n",
       "4           A  False             150.0             161.0             128.0   \n",
       "...       ...    ...               ...               ...               ...   \n",
       "602877      S  False             137.0             134.0             136.0   \n",
       "602878      T  False              99.0             102.0             122.0   \n",
       "602879      V  False             179.0             245.0             413.0   \n",
       "602880      W  False             674.0             834.0             833.0   \n",
       "602881      Y  False              61.0              93.0              98.0   \n",
       "\n",
       "        output_count_rep1  output_count_rep2  output_count_rep3  \\\n",
       "0                     1.0                4.0                5.0   \n",
       "1                     7.0                0.0                0.0   \n",
       "2                   133.0              125.0               46.0   \n",
       "3                     3.0                2.0               13.0   \n",
       "4                    74.0               48.0               56.0   \n",
       "...                   ...                ...                ...   \n",
       "602877              650.0              652.0              749.0   \n",
       "602878              632.0              502.0              513.0   \n",
       "602879              206.0              306.0              559.0   \n",
       "602880             1678.0             1516.0              936.0   \n",
       "602881              199.0              245.0              267.0   \n",
       "\n",
       "        mean_input_count   fitness  fitness_sigma  normalized_fitness  \\\n",
       "0              82.000000 -0.006228       0.022911           -1.445534   \n",
       "1              73.000000  0.028656       0.029636           -0.961864   \n",
       "2             201.333333  0.075688       0.006956           -0.309755   \n",
       "3             163.000000 -0.001982       0.017544           -1.386659   \n",
       "4             146.333333  0.069597       0.008001           -0.394199   \n",
       "...                  ...       ...            ...                 ...   \n",
       "602877        135.666700  0.186037       0.009829           -0.077343   \n",
       "602878        107.666700  0.187877       0.010987           -0.054211   \n",
       "602879        279.000000  0.139785       0.007840           -0.658761   \n",
       "602880        780.333300  0.152394       0.004906           -0.500250   \n",
       "602881         84.000000  0.167989       0.012748           -0.304212   \n",
       "\n",
       "        normalized_fitness_sigma clinical_class  position_abs  \n",
       "0                       0.317667            NaN           0.0  \n",
       "1                       0.410906            NaN           1.0  \n",
       "2                       0.096451            NaN           1.0  \n",
       "3                       0.243252            NaN           2.0  \n",
       "4                       0.110932            NaN           2.0  \n",
       "...                          ...            ...           ...  \n",
       "602877                  0.123553            NaN           2.0  \n",
       "602878                  0.138114            NaN           2.0  \n",
       "602879                  0.098556            NaN           2.0  \n",
       "602880                  0.061666            NaN           2.0  \n",
       "602881                  0.160249            NaN           2.0  \n",
       "\n",
       "[602882 rows x 20 columns]"
      ]
     },
     "execution_count": 6,
     "metadata": {},
     "output_type": "execute_result"
    }
   ],
   "source": []
  },
  {
   "cell_type": "code",
   "execution_count": 6,
   "metadata": {},
   "outputs": [
    {
     "data": {
      "text/html": [
       "<div>\n",
       "<style scoped>\n",
       "    .dataframe tbody tr th:only-of-type {\n",
       "        vertical-align: middle;\n",
       "    }\n",
       "\n",
       "    .dataframe tbody tr th {\n",
       "        vertical-align: top;\n",
       "    }\n",
       "\n",
       "    .dataframe thead th {\n",
       "        text-align: right;\n",
       "    }\n",
       "</style>\n",
       "<table border=\"1\" class=\"dataframe\">\n",
       "  <thead>\n",
       "    <tr style=\"text-align: right;\">\n",
       "      <th></th>\n",
       "      <th>domain_ID</th>\n",
       "      <th>uniprot_ID</th>\n",
       "      <th>aa_seq</th>\n",
       "      <th>wt_aa</th>\n",
       "      <th>position</th>\n",
       "      <th>mut_aa</th>\n",
       "      <th>normalized_fitness</th>\n",
       "    </tr>\n",
       "  </thead>\n",
       "  <tbody>\n",
       "    <tr>\n",
       "      <th>2</th>\n",
       "      <td>P57071_PF00096_1085</td>\n",
       "      <td>P57071</td>\n",
       "      <td>AAEQCGKSFARKDMLKEHMRVH</td>\n",
       "      <td>C</td>\n",
       "      <td>1086.0</td>\n",
       "      <td>A</td>\n",
       "      <td>-0.309755</td>\n",
       "    </tr>\n",
       "    <tr>\n",
       "      <th>4</th>\n",
       "      <td>P57071_PF00096_1085</td>\n",
       "      <td>P57071</td>\n",
       "      <td>ACAQCGKSFARKDMLKEHMRVH</td>\n",
       "      <td>E</td>\n",
       "      <td>1087.0</td>\n",
       "      <td>A</td>\n",
       "      <td>-0.394199</td>\n",
       "    </tr>\n",
       "    <tr>\n",
       "      <th>5</th>\n",
       "      <td>P57071_PF00096_1085</td>\n",
       "      <td>P57071</td>\n",
       "      <td>ACCQCGKSFARKDMLKEHMRVH</td>\n",
       "      <td>E</td>\n",
       "      <td>1087.0</td>\n",
       "      <td>C</td>\n",
       "      <td>0.096326</td>\n",
       "    </tr>\n",
       "    <tr>\n",
       "      <th>6</th>\n",
       "      <td>P57071_PF00096_1085</td>\n",
       "      <td>P57071</td>\n",
       "      <td>ACDQCGKSFARKDMLKEHMRVH</td>\n",
       "      <td>E</td>\n",
       "      <td>1087.0</td>\n",
       "      <td>D</td>\n",
       "      <td>0.184738</td>\n",
       "    </tr>\n",
       "    <tr>\n",
       "      <th>8</th>\n",
       "      <td>P57071_PF00096_1085</td>\n",
       "      <td>P57071</td>\n",
       "      <td>ACEACGKSFARKDMLKEHMRVH</td>\n",
       "      <td>Q</td>\n",
       "      <td>1088.0</td>\n",
       "      <td>A</td>\n",
       "      <td>-0.273774</td>\n",
       "    </tr>\n",
       "    <tr>\n",
       "      <th>...</th>\n",
       "      <td>...</td>\n",
       "      <td>...</td>\n",
       "      <td>...</td>\n",
       "      <td>...</td>\n",
       "      <td>...</td>\n",
       "      <td>...</td>\n",
       "      <td>...</td>\n",
       "    </tr>\n",
       "    <tr>\n",
       "      <th>602877</th>\n",
       "      <td>Q99615_PF00226_382</td>\n",
       "      <td>Q99615</td>\n",
       "      <td>YYSILGVDKNASEDEIKKAYRKRALMHHPDRHSGASAEVQKEEEKK...</td>\n",
       "      <td>K</td>\n",
       "      <td>384.0</td>\n",
       "      <td>S</td>\n",
       "      <td>-0.077343</td>\n",
       "    </tr>\n",
       "    <tr>\n",
       "      <th>602878</th>\n",
       "      <td>Q99615_PF00226_382</td>\n",
       "      <td>Q99615</td>\n",
       "      <td>YYTILGVDKNASEDEIKKAYRKRALMHHPDRHSGASAEVQKEEEKK...</td>\n",
       "      <td>K</td>\n",
       "      <td>384.0</td>\n",
       "      <td>T</td>\n",
       "      <td>-0.054211</td>\n",
       "    </tr>\n",
       "    <tr>\n",
       "      <th>602879</th>\n",
       "      <td>Q99615_PF00226_382</td>\n",
       "      <td>Q99615</td>\n",
       "      <td>YYVILGVDKNASEDEIKKAYRKRALMHHPDRHSGASAEVQKEEEKK...</td>\n",
       "      <td>K</td>\n",
       "      <td>384.0</td>\n",
       "      <td>V</td>\n",
       "      <td>-0.658761</td>\n",
       "    </tr>\n",
       "    <tr>\n",
       "      <th>602880</th>\n",
       "      <td>Q99615_PF00226_382</td>\n",
       "      <td>Q99615</td>\n",
       "      <td>YYWILGVDKNASEDEIKKAYRKRALMHHPDRHSGASAEVQKEEEKK...</td>\n",
       "      <td>K</td>\n",
       "      <td>384.0</td>\n",
       "      <td>W</td>\n",
       "      <td>-0.500250</td>\n",
       "    </tr>\n",
       "    <tr>\n",
       "      <th>602881</th>\n",
       "      <td>Q99615_PF00226_382</td>\n",
       "      <td>Q99615</td>\n",
       "      <td>YYYILGVDKNASEDEIKKAYRKRALMHHPDRHSGASAEVQKEEEKK...</td>\n",
       "      <td>K</td>\n",
       "      <td>384.0</td>\n",
       "      <td>Y</td>\n",
       "      <td>-0.304212</td>\n",
       "    </tr>\n",
       "  </tbody>\n",
       "</table>\n",
       "<p>572764 rows × 7 columns</p>\n",
       "</div>"
      ],
      "text/plain": [
       "                  domain_ID uniprot_ID  \\\n",
       "2       P57071_PF00096_1085     P57071   \n",
       "4       P57071_PF00096_1085     P57071   \n",
       "5       P57071_PF00096_1085     P57071   \n",
       "6       P57071_PF00096_1085     P57071   \n",
       "8       P57071_PF00096_1085     P57071   \n",
       "...                     ...        ...   \n",
       "602877   Q99615_PF00226_382     Q99615   \n",
       "602878   Q99615_PF00226_382     Q99615   \n",
       "602879   Q99615_PF00226_382     Q99615   \n",
       "602880   Q99615_PF00226_382     Q99615   \n",
       "602881   Q99615_PF00226_382     Q99615   \n",
       "\n",
       "                                                   aa_seq wt_aa  position  \\\n",
       "2                                  AAEQCGKSFARKDMLKEHMRVH     C    1086.0   \n",
       "4                                  ACAQCGKSFARKDMLKEHMRVH     E    1087.0   \n",
       "5                                  ACCQCGKSFARKDMLKEHMRVH     E    1087.0   \n",
       "6                                  ACDQCGKSFARKDMLKEHMRVH     E    1087.0   \n",
       "8                                  ACEACGKSFARKDMLKEHMRVH     Q    1088.0   \n",
       "...                                                   ...   ...       ...   \n",
       "602877  YYSILGVDKNASEDEIKKAYRKRALMHHPDRHSGASAEVQKEEEKK...     K     384.0   \n",
       "602878  YYTILGVDKNASEDEIKKAYRKRALMHHPDRHSGASAEVQKEEEKK...     K     384.0   \n",
       "602879  YYVILGVDKNASEDEIKKAYRKRALMHHPDRHSGASAEVQKEEEKK...     K     384.0   \n",
       "602880  YYWILGVDKNASEDEIKKAYRKRALMHHPDRHSGASAEVQKEEEKK...     K     384.0   \n",
       "602881  YYYILGVDKNASEDEIKKAYRKRALMHHPDRHSGASAEVQKEEEKK...     K     384.0   \n",
       "\n",
       "       mut_aa  normalized_fitness  \n",
       "2           A           -0.309755  \n",
       "4           A           -0.394199  \n",
       "5           C            0.096326  \n",
       "6           D            0.184738  \n",
       "8           A           -0.273774  \n",
       "...       ...                 ...  \n",
       "602877      S           -0.077343  \n",
       "602878      T           -0.054211  \n",
       "602879      V           -0.658761  \n",
       "602880      W           -0.500250  \n",
       "602881      Y           -0.304212  \n",
       "\n",
       "[572764 rows x 7 columns]"
      ]
     },
     "execution_count": 6,
     "metadata": {},
     "output_type": "execute_result"
    }
   ],
   "source": [
    "dataFiltered = data[[\"domain_ID\", \"uniprot_ID\", \"aa_seq\", \"wt_aa\", \"position\", \"mut_aa\", \"normalized_fitness\"]]\n",
    "dataFiltered = dataFiltered[dataFiltered['mut_aa'] != '*']\n"
   ]
  },
  {
   "cell_type": "code",
   "execution_count": null,
   "metadata": {},
   "outputs": [],
   "source": [
    "# sequence data, comes already batched, so treat accordingly in dataloader (batch_size=1)\n",
    "class SequenceDataDomainome(Dataset):\n",
    "    def __init__(self, csv_file, label_col=\"normalized_fitness\"):\n",
    "        \"\"\"\n",
    "        Initializes the dataset. \n",
    "        \"\"\"\n",
    "        self.df = pd.read_csv(csv_file, sep=\"\\t\")\n",
    "        self.label_col = label_col\n",
    "        # only have mutation rows\n",
    "        self.df = self.df[self.df.mut_aa!=\"*\"]\n",
    "        # process the mutation row\n",
    "        self.df[\"mutation_pos\"] = self.df[\"mut_type\"].apply(lambda x: int(x)-1) # make position start at zero\n",
    "        self.df[\"mutation_to\"] = self.df[\"mut_aa\"].apply(lambda x: aa_to_int[x[-1]]) # give numerical label to mutation\n",
    "\n",
    "        # group by wild type\n",
    "        self.df = self.df.groupby(\"domain_ID\").agg(list)\n",
    "        # get wild type names\n",
    "        self.wt_names = self.df.index.values\n",
    "        # precompute one-hot encoding for faster training\n",
    "        self.encoded_seqs = {}\n",
    "        for wt_name in self.wt_names:\n",
    "            # get the correct row\n",
    "            mut_row = self.df.loc[wt_name]\n",
    "            seq = mut_row[\"wt_seq\"][0]\n",
    "            self.encoded_seqs[wt_name] = one_hot_encode(seq)\n",
    "\n",
    "    def __len__(self):\n",
    "        return len(self.df)\n",
    "\n",
    "    def __getitem__(self, idx):\n",
    "        # get the wild type name\n",
    "        wt_name = self.wt_names[idx]\n",
    "        # get the correct row\n",
    "        mut_row = self.df.loc[wt_name]\n",
    "        # get the wt sequence in one hot encoding\n",
    "        sequence_encoding = self.encoded_seqs[wt_name]\n",
    "\n",
    "        # create mask and target tensors\n",
    "        mask = torch.zeros((1, len(sequence_encoding),20)) # will be 1 where we have a measurement\n",
    "        target = torch.zeros((1, len(sequence_encoding),20)) # ddg values\n",
    "        # all mutations from df\n",
    "        positions = torch.tensor(mut_row[\"mutation_pos\"])\n",
    "        amino_acids = torch.tensor(mut_row[\"mutation_to\"])\n",
    "        # get the labels\n",
    "        labels = torch.tensor(mut_row[self.label_col])\n",
    "\n",
    "        for i in range(len(sequence_encoding)):\n",
    "            mask[0,i,amino_acids[positions==i]] = 1 # one where we have data\n",
    "            target[0,i,amino_acids[positions==i]] = labels[positions==i] # fill with ddG values\n",
    "        \n",
    "        # returns encoded sequence, mask and target sequence \n",
    "        return {\"sequence\": sequence_encoding[None,:,:].float(), \"mask\": mask, \"labels\": target}"
   ]
  },
  {
   "cell_type": "code",
   "execution_count": null,
   "metadata": {},
   "outputs": [],
   "source": []
  },
  {
   "cell_type": "markdown",
   "metadata": {},
   "source": [
    "## Model"
   ]
  },
  {
   "cell_type": "code",
   "execution_count": 4,
   "metadata": {},
   "outputs": [],
   "source": [
    "class SequenceModel(nn.Module):\n",
    "    def __init__(self, input_size, hidden_size, output_size, num_layers):\n",
    "        super(SequenceModel, self).__init__()\n",
    "        self.hidden_size = hidden_size\n",
    "        self.num_layers = num_layers\n",
    "        self.lstm = nn.LSTM(input_size, hidden_size, num_layers, batch_first=True, bidirectional=True)\n",
    "        self.fc = nn.Linear(hidden_size * 2, output_size)\n",
    "\n",
    "    def forward(self, x):\n",
    "        x = x.to('cuda')\n",
    "        # Set initial hidden and cell states\n",
    "        h0 = torch.zeros(self.num_layers * 2, x.size(0), self.hidden_size).to(x.device)\n",
    "        c0 = torch.zeros(self.num_layers * 2, x.size(0), self.hidden_size).to(x.device)\n",
    "\n",
    "        # Forward propagate LSTM\n",
    "        out, _ = self.lstm(x, (h0, c0))\n",
    "\n",
    "        # Decode the hidden state of the last time step\n",
    "        out = self.fc(out[:, :, :])\n",
    "\n",
    "        return out"
   ]
  },
  {
   "cell_type": "code",
   "execution_count": 5,
   "metadata": {},
   "outputs": [],
   "source": [
    "# lightning module to train the sequence model\n",
    "class SequenceModelLightningNew(L.LightningModule):\n",
    "    def __init__(self, input_size=20, hidden_size=128, output_size=20, num_layers=2, lr=1e-3):\n",
    "        super().__init__()\n",
    "        self.model = SequenceModel(input_size=input_size, hidden_size=hidden_size, output_size=output_size, num_layers=num_layers)\n",
    "        self.lr = lr\n",
    "        self.loss = nn.MSELoss()\n",
    "        self.pearson = PearsonCorrCoef()\n",
    "\n",
    "    def forward(self, x):\n",
    "        return self.model(x)\n",
    "    \n",
    "    def training_step(self, batch, batch_idx):\n",
    "        # read from batch\n",
    "        x = batch[\"sequence\"][0]\n",
    "        mask = batch[\"mask\"][0]\n",
    "        target = batch[\"labels\"][0]\n",
    "        # predict\n",
    "        prediction = self.model(x)\n",
    "        # compute loss on the values where data is available\n",
    "        loss = self.loss(prediction[mask==1],target[mask==1])\n",
    "        self.log(\"train_loss\", loss, prog_bar=True)\n",
    "        return loss\n",
    "    \n",
    "    def validation_step(self, batch, batch_idx):\n",
    "        # read from batch\n",
    "        x = batch[\"sequence\"][0]\n",
    "        mask = batch[\"mask\"][0]\n",
    "        target = batch[\"labels\"][0]\n",
    "        # predict\n",
    "        prediction = self.model(x)\n",
    "        # compute loss on the values where data is available\n",
    "        loss = self.loss(prediction[mask==1],target[mask==1])\n",
    "        r = self.pearson(prediction[mask==1].flatten(),target[mask==1].flatten())\n",
    "        self.log(\"val_loss\", loss, on_step=True, on_epoch=True, prog_bar=True)\n",
    "        self.log(\"val_pearson\", r, on_epoch=True, prog_bar=True)\n",
    "        return loss\n",
    "    \n",
    "    def configure_optimizers(self):\n",
    "        return optim.Adam(self.parameters(), lr=self.lr)"
   ]
  },
  {
   "cell_type": "code",
   "execution_count": 6,
   "metadata": {},
   "outputs": [
    {
     "data": {
      "text/plain": [
       "True"
      ]
     },
     "execution_count": 6,
     "metadata": {},
     "output_type": "execute_result"
    }
   ],
   "source": [
    "torch.cuda.is_available()"
   ]
  },
  {
   "cell_type": "code",
   "execution_count": 7,
   "metadata": {},
   "outputs": [
    {
     "data": {
      "text/html": [
       "\n",
       "      <iframe id=\"tensorboard-frame-a7a6373f23fa7ed1\" width=\"100%\" height=\"800\" frameborder=\"0\">\n",
       "      </iframe>\n",
       "      <script>\n",
       "        (function() {\n",
       "          const frame = document.getElementById(\"tensorboard-frame-a7a6373f23fa7ed1\");\n",
       "          const url = new URL(\"/\", window.location);\n",
       "          const port = 6006;\n",
       "          if (port) {\n",
       "            url.port = port;\n",
       "          }\n",
       "          frame.src = url;\n",
       "        })();\n",
       "      </script>\n",
       "    "
      ],
      "text/plain": [
       "<IPython.core.display.HTML object>"
      ]
     },
     "metadata": {},
     "output_type": "display_data"
    }
   ],
   "source": [
    "# create a tensorboard session\n",
    "# new tab should open in your browser\n",
    "%reload_ext tensorboard\n",
    "%tensorboard --logdir=lightning_logs/"
   ]
  },
  {
   "cell_type": "code",
   "execution_count": 17,
   "metadata": {},
   "outputs": [
    {
     "name": "stderr",
     "output_type": "stream",
     "text": [
      "GPU available: True (cuda), used: True\n",
      "TPU available: False, using: 0 TPU cores\n",
      "IPU available: False, using: 0 IPUs\n",
      "HPU available: False, using: 0 HPUs\n",
      "/cluster/apps/nss/gcc-8.2.0/python/3.11.2/x86_64/lib64/python3.11/site-packages/lightning/pytorch/callbacks/model_checkpoint.py:615: UserWarning: Checkpoint directory /cluster/project/beltrao/gankin/courses/way_too_stable/lightning_logs/version_62154823/checkpoints exists and is not empty.\n",
      "  rank_zero_warn(f\"Checkpoint directory {dirpath} exists and is not empty.\")\n",
      "LOCAL_RANK: 0 - CUDA_VISIBLE_DEVICES: [0]\n",
      "\n",
      "  | Name    | Type            | Params\n",
      "--------------------------------------------\n",
      "0 | model   | SequenceModel   | 1.3 M \n",
      "1 | loss    | MSELoss         | 0     \n",
      "2 | pearson | PearsonCorrCoef | 0     \n",
      "--------------------------------------------\n",
      "1.3 M     Trainable params\n",
      "0         Non-trainable params\n",
      "1.3 M     Total params\n",
      "5.378     Total estimated model params size (MB)\n",
      "SLURM auto-requeueing enabled. Setting signal handlers.\n"
     ]
    },
    {
     "data": {
      "application/vnd.jupyter.widget-view+json": {
       "model_id": "bf5c6ef007c14015be632a465a2e0b4d",
       "version_major": 2,
       "version_minor": 0
      },
      "text/plain": [
       "Sanity Checking: 0it [00:00, ?it/s]"
      ]
     },
     "metadata": {},
     "output_type": "display_data"
    },
    {
     "name": "stderr",
     "output_type": "stream",
     "text": [
      "/cluster/apps/nss/gcc-8.2.0/python/3.11.2/x86_64/lib64/python3.11/site-packages/lightning/pytorch/trainer/connectors/data_connector.py:432: PossibleUserWarning: The dataloader, val_dataloader, does not have many workers which may be a bottleneck. Consider increasing the value of the `num_workers` argument` (try 128 which is the number of cpus on this machine) in the `DataLoader` init to improve performance.\n",
      "  rank_zero_warn(\n",
      "/cluster/apps/nss/gcc-8.2.0/python/3.11.2/x86_64/lib64/python3.11/site-packages/lightning/pytorch/trainer/connectors/data_connector.py:432: PossibleUserWarning: The dataloader, train_dataloader, does not have many workers which may be a bottleneck. Consider increasing the value of the `num_workers` argument` (try 128 which is the number of cpus on this machine) in the `DataLoader` init to improve performance.\n",
      "  rank_zero_warn(\n"
     ]
    },
    {
     "data": {
      "application/vnd.jupyter.widget-view+json": {
       "model_id": "8374267ecbd24f7099d9b6234ad6b04a",
       "version_major": 2,
       "version_minor": 0
      },
      "text/plain": [
       "Training: 0it [00:00, ?it/s]"
      ]
     },
     "metadata": {},
     "output_type": "display_data"
    },
    {
     "data": {
      "application/vnd.jupyter.widget-view+json": {
       "model_id": "c950e7cc236c490b929822bc8c9b340b",
       "version_major": 2,
       "version_minor": 0
      },
      "text/plain": [
       "Validation: 0it [00:00, ?it/s]"
      ]
     },
     "metadata": {},
     "output_type": "display_data"
    },
    {
     "data": {
      "application/vnd.jupyter.widget-view+json": {
       "model_id": "b100149bb66b43769f6b2fd82dc75066",
       "version_major": 2,
       "version_minor": 0
      },
      "text/plain": [
       "Validation: 0it [00:00, ?it/s]"
      ]
     },
     "metadata": {},
     "output_type": "display_data"
    },
    {
     "data": {
      "application/vnd.jupyter.widget-view+json": {
       "model_id": "9a50ac76ca80430daa92d5d0f8566769",
       "version_major": 2,
       "version_minor": 0
      },
      "text/plain": [
       "Validation: 0it [00:00, ?it/s]"
      ]
     },
     "metadata": {},
     "output_type": "display_data"
    },
    {
     "data": {
      "application/vnd.jupyter.widget-view+json": {
       "model_id": "f8a092a05b144abd95b838f8db4813b2",
       "version_major": 2,
       "version_minor": 0
      },
      "text/plain": [
       "Validation: 0it [00:00, ?it/s]"
      ]
     },
     "metadata": {},
     "output_type": "display_data"
    },
    {
     "data": {
      "application/vnd.jupyter.widget-view+json": {
       "model_id": "3b84726fac8b4f8ca042b8e6ad370e6f",
       "version_major": 2,
       "version_minor": 0
      },
      "text/plain": [
       "Validation: 0it [00:00, ?it/s]"
      ]
     },
     "metadata": {},
     "output_type": "display_data"
    },
    {
     "data": {
      "application/vnd.jupyter.widget-view+json": {
       "model_id": "fa4de357f24c47769ed48d50fea572f0",
       "version_major": 2,
       "version_minor": 0
      },
      "text/plain": [
       "Validation: 0it [00:00, ?it/s]"
      ]
     },
     "metadata": {},
     "output_type": "display_data"
    },
    {
     "data": {
      "application/vnd.jupyter.widget-view+json": {
       "model_id": "3298dc756fd0425f98e6f14c80e72634",
       "version_major": 2,
       "version_minor": 0
      },
      "text/plain": [
       "Validation: 0it [00:00, ?it/s]"
      ]
     },
     "metadata": {},
     "output_type": "display_data"
    },
    {
     "data": {
      "application/vnd.jupyter.widget-view+json": {
       "model_id": "ccfda6640e464682bfe3f3665d69ceb6",
       "version_major": 2,
       "version_minor": 0
      },
      "text/plain": [
       "Validation: 0it [00:00, ?it/s]"
      ]
     },
     "metadata": {},
     "output_type": "display_data"
    },
    {
     "data": {
      "application/vnd.jupyter.widget-view+json": {
       "model_id": "587d240c68524894b4e01f74b77c7bf0",
       "version_major": 2,
       "version_minor": 0
      },
      "text/plain": [
       "Validation: 0it [00:00, ?it/s]"
      ]
     },
     "metadata": {},
     "output_type": "display_data"
    },
    {
     "data": {
      "application/vnd.jupyter.widget-view+json": {
       "model_id": "9f850aa861dc480f9f737f236691ea92",
       "version_major": 2,
       "version_minor": 0
      },
      "text/plain": [
       "Validation: 0it [00:00, ?it/s]"
      ]
     },
     "metadata": {},
     "output_type": "display_data"
    },
    {
     "data": {
      "application/vnd.jupyter.widget-view+json": {
       "model_id": "d0853d2fb5324e5b9d534e87fea0c76b",
       "version_major": 2,
       "version_minor": 0
      },
      "text/plain": [
       "Validation: 0it [00:00, ?it/s]"
      ]
     },
     "metadata": {},
     "output_type": "display_data"
    },
    {
     "data": {
      "application/vnd.jupyter.widget-view+json": {
       "model_id": "b978b306d8234c73b38f603b582344d6",
       "version_major": 2,
       "version_minor": 0
      },
      "text/plain": [
       "Validation: 0it [00:00, ?it/s]"
      ]
     },
     "metadata": {},
     "output_type": "display_data"
    },
    {
     "data": {
      "application/vnd.jupyter.widget-view+json": {
       "model_id": "de29949f5e404da4b5a217b1cf57053d",
       "version_major": 2,
       "version_minor": 0
      },
      "text/plain": [
       "Validation: 0it [00:00, ?it/s]"
      ]
     },
     "metadata": {},
     "output_type": "display_data"
    },
    {
     "data": {
      "application/vnd.jupyter.widget-view+json": {
       "model_id": "c2eb6c60e3804148a7b836569588f161",
       "version_major": 2,
       "version_minor": 0
      },
      "text/plain": [
       "Validation: 0it [00:00, ?it/s]"
      ]
     },
     "metadata": {},
     "output_type": "display_data"
    },
    {
     "data": {
      "application/vnd.jupyter.widget-view+json": {
       "model_id": "c7be8fc35cbc4a23a725d010dd8badf5",
       "version_major": 2,
       "version_minor": 0
      },
      "text/plain": [
       "Validation: 0it [00:00, ?it/s]"
      ]
     },
     "metadata": {},
     "output_type": "display_data"
    },
    {
     "data": {
      "application/vnd.jupyter.widget-view+json": {
       "model_id": "36bb3565d9284a25bcc1a8dcd85308f7",
       "version_major": 2,
       "version_minor": 0
      },
      "text/plain": [
       "Validation: 0it [00:00, ?it/s]"
      ]
     },
     "metadata": {},
     "output_type": "display_data"
    },
    {
     "data": {
      "application/vnd.jupyter.widget-view+json": {
       "model_id": "bcf2920408514dd6a2219a04dc855f38",
       "version_major": 2,
       "version_minor": 0
      },
      "text/plain": [
       "Validation: 0it [00:00, ?it/s]"
      ]
     },
     "metadata": {},
     "output_type": "display_data"
    },
    {
     "data": {
      "application/vnd.jupyter.widget-view+json": {
       "model_id": "98fa314498ec4aeea724845301e15e7f",
       "version_major": 2,
       "version_minor": 0
      },
      "text/plain": [
       "Validation: 0it [00:00, ?it/s]"
      ]
     },
     "metadata": {},
     "output_type": "display_data"
    },
    {
     "data": {
      "application/vnd.jupyter.widget-view+json": {
       "model_id": "6fef6d8b0f86417daf835a4d59ddb5af",
       "version_major": 2,
       "version_minor": 0
      },
      "text/plain": [
       "Validation: 0it [00:00, ?it/s]"
      ]
     },
     "metadata": {},
     "output_type": "display_data"
    },
    {
     "data": {
      "application/vnd.jupyter.widget-view+json": {
       "model_id": "1a8408f93e684f9eaa85a514534e5af3",
       "version_major": 2,
       "version_minor": 0
      },
      "text/plain": [
       "Validation: 0it [00:00, ?it/s]"
      ]
     },
     "metadata": {},
     "output_type": "display_data"
    },
    {
     "data": {
      "application/vnd.jupyter.widget-view+json": {
       "model_id": "c55f26d5489b4e12adecb8d5c4a796e9",
       "version_major": 2,
       "version_minor": 0
      },
      "text/plain": [
       "Validation: 0it [00:00, ?it/s]"
      ]
     },
     "metadata": {},
     "output_type": "display_data"
    },
    {
     "data": {
      "application/vnd.jupyter.widget-view+json": {
       "model_id": "958d242bd9e34c29836cf3e9f217b2f1",
       "version_major": 2,
       "version_minor": 0
      },
      "text/plain": [
       "Validation: 0it [00:00, ?it/s]"
      ]
     },
     "metadata": {},
     "output_type": "display_data"
    },
    {
     "data": {
      "application/vnd.jupyter.widget-view+json": {
       "model_id": "8c715cd6e054445fa53345b9b0609c21",
       "version_major": 2,
       "version_minor": 0
      },
      "text/plain": [
       "Validation: 0it [00:00, ?it/s]"
      ]
     },
     "metadata": {},
     "output_type": "display_data"
    },
    {
     "data": {
      "application/vnd.jupyter.widget-view+json": {
       "model_id": "12edad49c5a64c19815e0c60f59d4a82",
       "version_major": 2,
       "version_minor": 0
      },
      "text/plain": [
       "Validation: 0it [00:00, ?it/s]"
      ]
     },
     "metadata": {},
     "output_type": "display_data"
    },
    {
     "data": {
      "application/vnd.jupyter.widget-view+json": {
       "model_id": "74f2d8f8136447b99c92e99dd0aeed8f",
       "version_major": 2,
       "version_minor": 0
      },
      "text/plain": [
       "Validation: 0it [00:00, ?it/s]"
      ]
     },
     "metadata": {},
     "output_type": "display_data"
    },
    {
     "data": {
      "application/vnd.jupyter.widget-view+json": {
       "model_id": "3961112e34fa4d558318d36d8ccf1511",
       "version_major": 2,
       "version_minor": 0
      },
      "text/plain": [
       "Validation: 0it [00:00, ?it/s]"
      ]
     },
     "metadata": {},
     "output_type": "display_data"
    },
    {
     "data": {
      "application/vnd.jupyter.widget-view+json": {
       "model_id": "5c0a8849b09846e6959493f4b2e7a1e7",
       "version_major": 2,
       "version_minor": 0
      },
      "text/plain": [
       "Validation: 0it [00:00, ?it/s]"
      ]
     },
     "metadata": {},
     "output_type": "display_data"
    },
    {
     "data": {
      "application/vnd.jupyter.widget-view+json": {
       "model_id": "299b502ae9e04964acd50fb86e94a0e5",
       "version_major": 2,
       "version_minor": 0
      },
      "text/plain": [
       "Validation: 0it [00:00, ?it/s]"
      ]
     },
     "metadata": {},
     "output_type": "display_data"
    },
    {
     "data": {
      "application/vnd.jupyter.widget-view+json": {
       "model_id": "55b36baff34d4aadb8fa85fc9ccb5af9",
       "version_major": 2,
       "version_minor": 0
      },
      "text/plain": [
       "Validation: 0it [00:00, ?it/s]"
      ]
     },
     "metadata": {},
     "output_type": "display_data"
    },
    {
     "data": {
      "application/vnd.jupyter.widget-view+json": {
       "model_id": "15f575bc985a4648a2df2a70a8e1d550",
       "version_major": 2,
       "version_minor": 0
      },
      "text/plain": [
       "Validation: 0it [00:00, ?it/s]"
      ]
     },
     "metadata": {},
     "output_type": "display_data"
    },
    {
     "name": "stderr",
     "output_type": "stream",
     "text": [
      "`Trainer.fit` stopped: `max_epochs=30` reached.\n"
     ]
    }
   ],
   "source": [
    "# train model for 30 epochs\n",
    "lit_model = SequenceModelLightningNew(input_size=20, num_layers=4, lr=1e-4)\n",
    "trainer = L.Trainer(accelerator=\"gpu\", devices=1, max_epochs=30)\n",
    "trainer.fit(lit_model, dataloader_train, dataloader_val)"
   ]
  },
  {
   "cell_type": "code",
   "execution_count": 33,
   "metadata": {},
   "outputs": [
    {
     "data": {
      "text/plain": [
       "SequenceModelLightningNew(\n",
       "  (model): SequenceModel(\n",
       "    (lstm): LSTM(20, 128, num_layers=2, batch_first=True, bidirectional=True)\n",
       "    (fc): Linear(in_features=256, out_features=20, bias=True)\n",
       "  )\n",
       "  (loss): MSELoss()\n",
       "  (pearson): PearsonCorrCoef()\n",
       ")"
      ]
     },
     "execution_count": 33,
     "metadata": {},
     "output_type": "execute_result"
    }
   ],
   "source": [
    "lit_model.eval()"
   ]
  },
  {
   "cell_type": "code",
   "execution_count": 18,
   "metadata": {},
   "outputs": [
    {
     "name": "stdout",
     "output_type": "stream",
     "text": [
      "RMSE: 0.57930166\n",
      "Pearson r: PearsonRResult(statistic=0.5879799405817185, pvalue=0.0)\n",
      "Spearman r: SignificanceResult(statistic=0.5522292913985065, pvalue=0.0)\n"
     ]
    },
    {
     "data": {
      "image/png": "[encoded data removed]",
      "text/plain": [
       "<Figure size 640x480 with 1 Axes>"
      ]
     },
     "metadata": {},
     "output_type": "display_data"
    }
   ],
   "source": [
    "model = lit_model.model\n",
    "\n",
    "preds =[]\n",
    "all_y = []\n",
    "\n",
    "for batch in dataloader_val:\n",
    "    # read from batch\n",
    "    x = batch[\"sequence\"][0]\n",
    "    mask = batch[\"mask\"][0]\n",
    "    target = batch[\"labels\"][0]\n",
    "    ## adjust to work with your model\n",
    "    # predict\n",
    "    prediction = model.cuda()(x.cuda()).cpu()\n",
    "    preds.append(prediction[mask==1].flatten().detach().numpy()) # flatten to create one dimensional vector from 2D sequence\n",
    "    all_y.append(target[mask==1].flatten().detach().numpy()) # flatten to create one dimensional vector from 2D sequence\n",
    "\n",
    "# concatenate and plot\n",
    "preds= np.concatenate(preds)\n",
    "all_y = np.concatenate(all_y)\n",
    "\n",
    "sns.regplot(x=preds,y=all_y)\n",
    "plt.xlabel(\"Predicted ddG\")\n",
    "plt.ylabel(\"Measured ddG\")\n",
    "\n",
    "# get RMSE, Pearson and Spearman correlation \n",
    "print(\"RMSE:\", skmetrics.mean_squared_error(all_y, preds, squared=\"False\"))\n",
    "print(\"Pearson r:\", scipy.stats.pearsonr(preds, all_y))\n",
    "print(\"Spearman r:\", scipy.stats.spearmanr(preds, all_y))"
   ]
  },
  {
   "cell_type": "code",
   "execution_count": 16,
   "metadata": {},
   "outputs": [
    {
     "name": "stdout",
     "output_type": "stream",
     "text": [
      "RMSE: 0.88096595\n",
      "Pearson r: PearsonRResult(statistic=0.5358496101308068, pvalue=0.0)\n",
      "Spearman r: SignificanceResult(statistic=0.47590765892566506, pvalue=0.0)\n"
     ]
    },
    {
     "data": {
      "image/png": "[encoded data removed]",
      "text/plain": [
       "<Figure size 640x480 with 1 Axes>"
      ]
     },
     "metadata": {},
     "output_type": "display_data"
    }
   ],
   "source": [
    "model = lit_model.model\n",
    "\n",
    "preds =[]\n",
    "all_y = []\n",
    "\n",
    "for batch in dataloader_test:\n",
    "    # read from batch\n",
    "    x = batch[\"sequence\"][0]\n",
    "    mask = batch[\"mask\"][0]\n",
    "    target = batch[\"labels\"][0]\n",
    "    ## adjust to work with your model\n",
    "    # predict\n",
    "    prediction = model.cuda()(x.cuda()).cpu()\n",
    "    preds.append(prediction[mask==1].flatten().detach().numpy()) # flatten to create one dimensional vector from 2D sequence\n",
    "    all_y.append(target[mask==1].flatten().detach().numpy()) # flatten to create one dimensional vector from 2D sequence\n",
    "\n",
    "# concatenate and plot\n",
    "preds= np.concatenate(preds)\n",
    "all_y = np.concatenate(all_y)\n",
    "\n",
    "sns.regplot(x=preds,y=all_y)\n",
    "plt.xlabel(\"Predicted ddG\")\n",
    "plt.ylabel(\"Measured ddG\")\n",
    "\n",
    "# get RMSE, Pearson and Spearman correlation \n",
    "print(\"RMSE:\", skmetrics.mean_squared_error(all_y, preds, squared=\"False\"))\n",
    "print(\"Pearson r:\", scipy.stats.pearsonr(preds, all_y))\n",
    "print(\"Spearman r:\", scipy.stats.spearmanr(preds, all_y))"
   ]
  },
  {
   "cell_type": "code",
   "execution_count": null,
   "metadata": {},
   "outputs": [],
   "source": []
  }
 ],
 "metadata": {
  "kernelspec": {
   "display_name": "dlcourse",
   "language": "python",
   "name": "python3"
  },
  "language_info": {
   "codemirror_mode": {
    "name": "ipython",
    "version": 3
   },
   "file_extension": ".py",
   "mimetype": "text/x-python",
   "name": "python",
   "nbconvert_exporter": "python",
   "pygments_lexer": "ipython3",
   "version": "3.11.2"
  },
  "orig_nbformat": 4
 },
 "nbformat": 4,
 "nbformat_minor": 2
}
